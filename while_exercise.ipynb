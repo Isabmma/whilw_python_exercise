{
 "cells": [
  {
   "cell_type": "markdown",
   "metadata": {},
   "source": [
    "## Input until the user stop\n",
    "\n",
    "Let's create a sales system. The program must record the product and the quantities (2 inputs) and add them to a list.\n",
    "\n",
    "The program must continue running until the input is empty, that is, the user presses enter without typing any product or quantity.\n",
    "\n",
    "At the end of the program, he must print all products and quantities sold.\n",
    "\n",
    "Note: If you want, for the print to be more visual, you can use the join for each item to be printed on a line.\n",
    "Suggestion for your sold list:\n",
    "\n",
    "sold = [\n",
    "    ['maçã', 5],\n",
    "    ['banana', 15],\n",
    "    ['azeite', 1],\n",
    "    ['vinho', 3],\n",
    "]"
   ]
  },
  {
   "cell_type": "code",
   "execution_count": 5,
   "metadata": {},
   "outputs": [
    {
     "name": "stdout",
     "output_type": "stream",
     "text": [
      "[['isa', 10]]\n"
     ]
    }
   ],
   "source": [
    "product_name = input(\"Insert the product name: To cancel the insert of products press ENTER \")\n",
    "product_quantity = (input(\"Insert the product quantity: \"))\n",
    "sold = []\n",
    "\n",
    "while product_name != \"\":\n",
    "  item = [product_name , int(product_quantity)]\n",
    "  sold.append(item)\n",
    "\n",
    "  product_name = input(\"Insert the product name: To cancel the insert of products press ENTER \")\n",
    "  product_quantity = input(\"Insert the product quantity: \")\n",
    "\n",
    "print(sold)"
   ]
  }
 ],
 "metadata": {
  "kernelspec": {
   "display_name": "Python 3.10.4 64-bit",
   "language": "python",
   "name": "python3"
  },
  "language_info": {
   "codemirror_mode": {
    "name": "ipython",
    "version": 3
   },
   "file_extension": ".py",
   "mimetype": "text/x-python",
   "name": "python",
   "nbconvert_exporter": "python",
   "pygments_lexer": "ipython3",
   "version": "3.10.4"
  },
  "vscode": {
   "interpreter": {
    "hash": "396a487d0f9a1aeea6eec7e2661c1b70bd880358e710a503b71d50d0e4959784"
   }
  }
 },
 "nbformat": 4,
 "nbformat_minor": 4
}
